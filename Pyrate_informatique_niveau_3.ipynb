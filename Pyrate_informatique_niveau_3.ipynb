{
  "cells": [
    {
      "cell_type": "markdown",
      "metadata": {
        "id": "view-in-github",
        "colab_type": "text"
      },
      "source": [
        "<a href=\"https://colab.research.google.com/github/infocornouaille/premiere_nsi/blob/main/Pyrate_informatique_niveau_3.ipynb\" target=\"_parent\"><img src=\"https://colab.research.google.com/assets/colab-badge.svg\" alt=\"Open In Colab\"/></a>"
      ]
    },
    {
      "metadata": {
        "id": "IAP_LXStM_qO"
      },
      "cell_type": "markdown",
      "source": [
        "# Le _pyrate_ informatique niveau 3"
      ]
    },
    {
      "metadata": {
        "id": "tyHMPLLuM_qc"
      },
      "cell_type": "markdown",
      "source": [
        "## Présentation de la situation"
      ]
    },
    {
      "metadata": {
        "id": "smTD-yUdM_ql"
      },
      "cell_type": "markdown",
      "source": [
        "Vous trouverez ci-dessous 10 fonctions `cracker0()`, ..., `cracker9()` qui vont vous permettre de trouver une clé numérique composée de 10 chiffres. \n",
        "\n",
        "Pour cela, vous allez devoir cracker les 10 niveaux dans l'ordre et chaque niveau cracké vous donnera un nouveau chiffre de la clé.\n",
        "\n",
        "Pour cracker un niveau il faut remplacer les `?` par la réponse attendue.\n",
        "\n",
        "## Exemple : \n",
        ">`cracker4(18)` pour tenter de valider le niveau 4 avec la réponse 18\n",
        "\n",
        "La fonction vous renvoie : \n",
        "- `True` suivi de la clé complétée avec un nouveau chiffre.\n",
        "- `False` si la réponse est fausse.\n",
        "\n",
        "## Attention: \n",
        "- vous devez impérativement valider **DANS L'ORDRE** les niveaux.\n",
        "\n",
        "Pour cela exécuter cellule après cellule à l'aide du bouton $\\fbox{▶ Exécuter}$ ou $\\fbox{▶ Run}$.\n",
        "\n",
        "- vous disposez d’autant d’essais que vous le souhaitez pour valider un niveau.\n",
        "- La clé à d écouvrir change dès qu’on relance le code de la fonction `cracker0()`.\n",
        "\n",
        "## La clé\n",
        "\n",
        "Chaque chiffre de la clé est calculé au fur et à mesure du crackage et est stocké par le programme dans une variable : Le premier chiffre de la clé est enregistré dans `cle[0]`, le deuxième dans `cle[1]`, ..., et le dixième dans `cle[9]`."
      ]
    },
    {
      "metadata": {
        "deletable": false,
        "editable": false,
        "trusted": false,
        "id": "7iG6lYdvM_qu"
      },
      "cell_type": "code",
      "source": [
        "from random import *\n",
        "cle = [\"-\",\"-\",\"-\",\"-\",\"-\",\"-\",\"-\",\"-\",\"-\",\"-\"]\n",
        "\n",
        "def cracker0(reponse):\n",
        "  \n",
        "  a = reponse + 1      \n",
        "  b = 2 * reponse - 5   \n",
        "  \n",
        "  if a == b:                #Si a est égal à b alors c'est gagné\n",
        "    cle[0] = randint(0, 9)   #Calcul du premier chiffre de la clé\n",
        "    print(True, \"\\nCle :\", cle[0],\"- - - - - - - - -\")\n",
        "  else:\n",
        "    print(False)          #Ce n'est pas la bonne réponse. Essaie encore !"
      ],
      "execution_count": null,
      "outputs": []
    },
    {
      "metadata": {
        "trusted": false,
        "id": "Zoh5d24PM_qx"
      },
      "cell_type": "code",
      "source": [
        "cracker0(?)"
      ],
      "execution_count": null,
      "outputs": []
    },
    {
      "metadata": {
        "deletable": false,
        "editable": false,
        "trusted": false,
        "id": "WdkWFiFYM_qy"
      },
      "cell_type": "code",
      "source": [
        "def cracker1(reponse):\n",
        "  \n",
        "    if cle[0] >= 7:\n",
        "        a = 2 * cle[0] - 7\n",
        "    elif cle[0] >= 5:\n",
        "        a = 3 * cle[0] - 5\n",
        "    else :\n",
        "        a = 5 * cle[0]                 \n",
        "\n",
        "    if reponse == a:\n",
        "        cle[1] = (cle[0] + 3) % 10  #Le deuxième chiffre de la clé est calculé\n",
        "        print(True,\"\\nCle :\", cle[0], cle[1], \"- - - - - - - -\")\n",
        "    else:\n",
        "        print(False)          #Ce n'est pas la bonne réponse. Essaie encore !"
      ],
      "execution_count": null,
      "outputs": []
    },
    {
      "metadata": {
        "trusted": false,
        "id": "sc8IVkFoM_qz"
      },
      "cell_type": "code",
      "source": [
        "cracker1(?)"
      ],
      "execution_count": null,
      "outputs": []
    },
    {
      "metadata": {
        "deletable": false,
        "editable": false,
        "trusted": false,
        "id": "DkdcCicqM_q1"
      },
      "cell_type": "code",
      "source": [
        "def cracker2(reponse):\n",
        "\n",
        "  a = reponse\n",
        "  for i in range(10):    \n",
        "    a = a - 2 \n",
        "  \n",
        "  if a == cle[1]:       \n",
        "    cle[2] = (cle[1] + 5) % 10  #Le troisième chiffre de la clé est calculé\n",
        "    print(True,\"\\nCle :\", cle[0], cle[1], cle[2], \"- - - - - - -\")\n",
        "  else:\n",
        "    print(False)\n"
      ],
      "execution_count": null,
      "outputs": []
    },
    {
      "metadata": {
        "trusted": false,
        "id": "66vSpB-cM_q2"
      },
      "cell_type": "code",
      "source": [
        "cracker2(?)"
      ],
      "execution_count": null,
      "outputs": []
    },
    {
      "metadata": {
        "deletable": false,
        "editable": false,
        "trusted": false,
        "id": "oXdcGTFtM_q4"
      },
      "cell_type": "code",
      "source": [
        "def cracker3(reponse):\n",
        "\n",
        "  a = cle[2]\n",
        "  for i in range(5):    \n",
        "    a = a + i\n",
        "  \n",
        "  if reponse == a:\n",
        "    cle[3] = (cle[2] + 7) % 10\n",
        "    print(True,\"\\nCle :\", cle[0], cle[1], cle[2], cle[3],\"- - - - - -\")        \n",
        "  else:\n",
        "    print(False)"
      ],
      "execution_count": null,
      "outputs": []
    },
    {
      "metadata": {
        "trusted": false,
        "id": "m4Eh1-_aM_q4"
      },
      "cell_type": "code",
      "source": [
        "cracker3(?)"
      ],
      "execution_count": null,
      "outputs": []
    },
    {
      "metadata": {
        "deletable": false,
        "editable": false,
        "trusted": false,
        "id": "STYYuprfM_q5"
      },
      "cell_type": "code",
      "source": [
        "def cracker4(reponse):\n",
        "\n",
        "  a = reponse\n",
        "  for i in range(10):    \n",
        "    a = a - 1       \n",
        "                 \n",
        "  if a == cle[3]:      \n",
        "    cle[4] = (3 * cle[3] + 3) % 10\n",
        "    print(True,\"\\nCle :\", cle[0], cle[1], cle[2], cle[3], cle[4], \"- - - - -\")           \n",
        "  else:\n",
        "    print(False)"
      ],
      "execution_count": null,
      "outputs": []
    },
    {
      "metadata": {
        "trusted": false,
        "id": "Gs242V1xM_q7"
      },
      "cell_type": "code",
      "source": [
        "cracker4(?)"
      ],
      "execution_count": null,
      "outputs": []
    },
    {
      "metadata": {
        "deletable": false,
        "editable": false,
        "trusted": false,
        "id": "Cu4dDGrJM_q7"
      },
      "cell_type": "code",
      "source": [
        "\n",
        "def f(x):\n",
        "  return -x**2 + 12 * x - 6     #f(x)=-x²+12x-6\n",
        "\n",
        "def cracker5(reponse):\n",
        "  M = f(0)\n",
        "  for x in range(10):    \n",
        "    if f(x) > M:\n",
        "      M = f(x)\n",
        "    \n",
        "  if reponse == M:\n",
        "    cle[5] = (3 * cle[4] + 5) % 10\n",
        "    print(True,\"\\nCle :\", cle[0], cle[1], cle[2], cle[3], cle[4], cle[5], \"- - - -\")           \n",
        "  else:\n",
        "    print(False)"
      ],
      "execution_count": null,
      "outputs": []
    },
    {
      "metadata": {
        "trusted": false,
        "id": "YvmyFgJ8M_q8"
      },
      "cell_type": "code",
      "source": [
        "cracker5(?)"
      ],
      "execution_count": null,
      "outputs": []
    },
    {
      "metadata": {
        "deletable": false,
        "editable": false,
        "trusted": false,
        "id": "7zwGlwe0M_q8"
      },
      "cell_type": "code",
      "source": [
        "def cracker6(reponse):\n",
        "\n",
        "  a = cle[5]\n",
        "  while a < 20:     #Tant que a est strictement inférieur à 20 faire ...\n",
        "    a = a + 1      \n",
        "  \n",
        "  if reponse == a:\n",
        "    cle[6] = (3 * cle[5] + 7) % 10\n",
        "    print(True,\"\\nCle :\", cle[0], cle[1], cle[2], cle[3], cle[4], cle[5], cle[6], \"- - -\")\n",
        "  else:\n",
        "    print(False)"
      ],
      "execution_count": null,
      "outputs": []
    },
    {
      "metadata": {
        "trusted": false,
        "id": "MfcFTtDhM_q9"
      },
      "cell_type": "code",
      "source": [
        "cracker6(?)"
      ],
      "execution_count": null,
      "outputs": []
    },
    {
      "metadata": {
        "deletable": false,
        "editable": false,
        "trusted": false,
        "id": "15Q5fAhFM_q-"
      },
      "cell_type": "code",
      "source": [
        "def g(x):\n",
        "  return -0.1 * x**2 + 1.5 * x + 2     #g(x)=-0.1x²+1.5x+2\n",
        "\n",
        "def cracker7(reponse):\n",
        "\n",
        "  x = cle[6]\n",
        "  while g(x) > 0:\n",
        "    x = x + 1      \n",
        "  \n",
        "  if reponse == x:\n",
        "    cle[7] = (7 * cle[6] + 3) % 10\n",
        "    print(True, \"\\nCle :\", cle[0], cle[1], cle[2], cle[3], cle[4], cle[5], cle[6], cle[7], \"- -\")\n",
        "  else:\n",
        "    print(False)"
      ],
      "execution_count": null,
      "outputs": []
    },
    {
      "metadata": {
        "trusted": false,
        "id": "3YTmVr-RM_q-"
      },
      "cell_type": "code",
      "source": [
        "cracker7(?)"
      ],
      "execution_count": null,
      "outputs": []
    },
    {
      "metadata": {
        "deletable": false,
        "editable": false,
        "trusted": false,
        "id": "ZhkcUWcRM_q-"
      },
      "cell_type": "code",
      "source": [
        "def cracker8(reponse):\n",
        "\n",
        "  a = cle[7]\n",
        "  while a < 100:\n",
        "    a = a + 10      \n",
        "  \n",
        "  if reponse == a:\n",
        "    cle[8] = (7 * cle[7] + 5) % 10\n",
        "    print(True,\"\\nCle :\", cle[0], cle[1], cle[2], cle[3], cle[4], cle[5], cle[6], cle[7], cle[8], \"-\")\n",
        "  else:\n",
        "    print(False)"
      ],
      "execution_count": null,
      "outputs": []
    },
    {
      "metadata": {
        "trusted": false,
        "id": "FGAT62E5M_q_"
      },
      "cell_type": "code",
      "source": [
        "cracker8(?)"
      ],
      "execution_count": null,
      "outputs": []
    },
    {
      "metadata": {
        "deletable": false,
        "editable": false,
        "trusted": false,
        "id": "mBzWrZUHM_q_"
      },
      "cell_type": "code",
      "source": [
        "def cracker9(reponse):\n",
        "\n",
        "  S = 0\n",
        "  n = 0\n",
        "  while S < 30:\n",
        "    S = S + cle[n]        #cle[n] désigne le n-ième chiffre de la clé\n",
        "    n = n + 1\n",
        "    \n",
        "  if reponse == S:\n",
        "    cle[9] = (7 * cle[8] + 7) % 10\n",
        "    print(True, \"\\nCle :\", cle[0], cle[1], cle[2], cle[3], cle[4], cle[5], cle[6], cle[7], cle[8], cle[9])\n",
        "    print(\"Demander au professeur la validation !\")\n",
        "  else:\n",
        "    print(False)"
      ],
      "execution_count": null,
      "outputs": []
    },
    {
      "metadata": {
        "trusted": false,
        "id": "EnkHHDEwM_rA"
      },
      "cell_type": "code",
      "source": [
        "cracker9(?)"
      ],
      "execution_count": null,
      "outputs": []
    }
  ],
  "metadata": {
    "celltoolbar": "Éditer les Méta-Données",
    "kernelspec": {
      "display_name": "Python 3",
      "language": "python",
      "name": "python3"
    },
    "language_info": {
      "codemirror_mode": {
        "name": "ipython",
        "version": 3
      },
      "file_extension": ".py",
      "mimetype": "text/x-python",
      "name": "python",
      "nbconvert_exporter": "python",
      "pygments_lexer": "ipython3",
      "version": "3.8.5"
    },
    "varInspector": {
      "cols": {
        "lenName": 16,
        "lenType": 16,
        "lenVar": 40
      },
      "kernels_config": {
        "python": {
          "delete_cmd_postfix": "",
          "delete_cmd_prefix": "del ",
          "library": "var_list.py",
          "varRefreshCmd": "print(var_dic_list())"
        },
        "r": {
          "delete_cmd_postfix": ") ",
          "delete_cmd_prefix": "rm(",
          "library": "var_list.r",
          "varRefreshCmd": "cat(var_dic_list()) "
        }
      },
      "types_to_exclude": [
        "module",
        "function",
        "builtin_function_or_method",
        "instance",
        "_Feature"
      ],
      "window_display": false
    },
    "colab": {
      "name": "Pyrate informatique niveau 3.ipynb",
      "provenance": [],
      "include_colab_link": true
    }
  },
  "nbformat": 4,
  "nbformat_minor": 0
}